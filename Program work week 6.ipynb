{
 "cells": [
  {
   "cell_type": "markdown",
   "metadata": {},
   "source": [
    "Q1.\n",
    "Given the following dictionary:\n",
    "Try to do the following:\n",
    "• Add a key to inventory called 'pocket'.\n",
    "• Set the value of 'pocket' to be a list consisting of the strings 'seashell', 'strange berry', and 'lint'.\n",
    "• .sort()the items in the list stored under the 'backpack' key.\n",
    "• Then .remove('dagger') from the list of items stored under the 'backpack' key.\n",
    "• Add 50 to the number stored under the 'gold' key."
   ]
  },
  {
   "cell_type": "code",
   "execution_count": 5,
   "metadata": {},
   "outputs": [
    {
     "name": "stdout",
     "output_type": "stream",
     "text": [
      "{'gold': 550, 'pouch': ['flint', 'twine', 'gemstone'], 'backpack': ['bedroll', 'bread loaf', 'xylophone'], 'pocket': ['seashell', 'strange berry', 'lint']}\n"
     ]
    }
   ],
   "source": [
    "inventory = {\n",
    "'gold' : 500,\n",
    "'pouch' : ['flint', 'twine', 'gemstone'],\n",
    "'backpack' : ['xylophone','dagger', 'bedroll','bread loaf']}\n",
    "\n",
    "#adding pocket key to dictionary which contains a list\n",
    "inventory['pocket'] =  ['seashell', 'strange berry', 'lint']\n",
    "\n",
    "#sorting the list under backpack key\n",
    "inventory['backpack'].sort()\n",
    "\n",
    "#removing 'dagger' from the list under backpack key\n",
    "inventory['backpack'].remove('dagger')\n",
    "\n",
    "#adding 50 to the number under gold key\n",
    "inventory['gold'] += 50\n",
    "\n",
    "#result\n",
    "print(inventory)\n"
   ]
  },
  {
   "cell_type": "markdown",
   "metadata": {},
   "source": [
    "Q2. \n",
    "Follow the steps bellow: -Create a new dictionary called prices using {} format like the example above.\n",
    "• Put these values in your prices dictionary:\n",
    "• Loop through each key in prices. For each key, print out the key along with its price and stock\n",
    "information. Print the answer in the following format:\n",
    "• Let's determine how much money you would make if you sold all of your food.\n",
    "o Create a variable called total and set it to zero.\n",
    "o Loop through the prices dictionaries. For each key in prices, multiply the number in prices by the\n",
    "number in stock. Print that value into the console and then add it to total.\n",
    "o Finally, outside your loop, print total."
   ]
  },
  {
   "cell_type": "code",
   "execution_count": 18,
   "metadata": {},
   "outputs": [
    {
     "name": "stdout",
     "output_type": "stream",
     "text": [
      "banana\n",
      "price: 4\n",
      "stock: 5\n",
      "apple\n",
      "price: 2\n",
      "stock: 10\n",
      "orange\n",
      "price: 1.5\n",
      "stock: 15\n",
      "pear\n",
      "price: 3\n",
      "stock: 20\n",
      "banana\n",
      "20\n",
      "apple\n",
      "20\n",
      "orange\n",
      "22.5\n",
      "pear\n",
      "60\n",
      "how much money we make: 122.5\n"
     ]
    }
   ],
   "source": [
    "prices = {\"banana\": 4,\n",
    "\"apple\": 2,\n",
    "\"orange\": 1.5,\n",
    "\"pear\": 3}\n",
    "\n",
    "#Made up some values for the stock since it's not specified\n",
    "stock = {\"banana\": 5, \"apple\": 10, \"orange\": 15, \"pear\": 20}\n",
    "\n",
    "for i in prices:\n",
    "    print(i)\n",
    "    print(\"price:\", prices[i])\n",
    "    print(\"stock:\", stock[i])\n",
    "\n",
    "total = 0\n",
    "\n",
    "for i in prices:\n",
    "    print(i)\n",
    "    money_made = prices[i] * stock[i]\n",
    "    print(money_made)\n",
    "    total = total + money_made\n",
    "\n",
    "print(f\"how much money we make: {total}\")\n",
    "\n",
    "\n"
   ]
  },
  {
   "cell_type": "markdown",
   "metadata": {},
   "source": [
    "Q3.\n",
    "Follow the steps:\n",
    "• First, make a list called groceries with the values \"banana\",\"orange\", and \"apple\".\n",
    "• Define these two dictionaries:\n",
    "\n",
    "• Define a function compute_bill that takes one argument food as input. In the function, create a\n",
    "variable total with an initial value of zero. For each item in the food list, add the price of that item to\n",
    "total. Finally, return the total. Ignore whether the item you're billing for is in stock. Note that your\n",
    "function should work for any food list.\n",
    "• Make the following changes to your compute_bill function:\n",
    "o While you loop through each item of food, only add the price of the item to total if the item's\n",
    "stock count is greater than zero.\n",
    "o If the item is in stock and after you add the price to the total, subtract one from the item's stock\n",
    "count."
   ]
  },
  {
   "cell_type": "code",
   "execution_count": 44,
   "metadata": {},
   "outputs": [
    {
     "name": "stdout",
     "output_type": "stream",
     "text": [
      "5.5\n"
     ]
    }
   ],
   "source": [
    "groceries = [\"banana\", \"orange\", \"apple\"]\n",
    "\n",
    "stock = {\n",
    " \"banana\": 6,\n",
    " \"apple\": 0,\n",
    " \"orange\": 32,\n",
    " \"pear\": 15\n",
    "}\n",
    "\n",
    "prices = {\n",
    " \"banana\": 4,\n",
    " \"apple\": 2,\n",
    " \"orange\": 1.5,\n",
    " \"pear\": 3\n",
    "}\n",
    "\n",
    "def compute_bill(food):\n",
    "    total = 0\n",
    "    for i in food:\n",
    "        if stock[i] > 0:\n",
    "            total += prices[i]\n",
    "            stock[i] -= 1\n",
    "    print(total)\n",
    "\n",
    "compute_bill(groceries)\n",
    "        \n",
    "        "
   ]
  },
  {
   "cell_type": "markdown",
   "metadata": {},
   "source": [
    "Q4.\n",
    "This exercise is a bit more complicate. We will review all about list and dictionaries. The aim of this exercise is\n",
    "to make a gradebook for teacher's students.\n",
    "Try to follow the steps:\n",
    "• Create three dictionaries: eren, mikasa, and armin.\n",
    "• Give each dictionary the keys \"name\", \"homework\", \"quizzes\", and \"tests\". Have the \"name\" key be the\n",
    "name of the student (that is, eren’s name should be \"Eren\") and the other keys should be an empty list.\n",
    "• Now copy this code:\n",
    "\n",
    "• Below your code, create a list called students that contains eren, mikasa, and armin.\n",
    "• for each student in your students list, print out that student's data, as follows:\n",
    "\n",
    "• Write a function average that takes a list of numbers and returns the average.\n",
    "o Define a function called average that has one argument, numbers.\n",
    "o Inside that function, call the built-in sum() function with the numbers list as a parameter. Store\n",
    "the result in a variable called total.\n",
    "o Use float() to convert total and store the result in total.\n",
    "o Divide total by the length of the numbers list. Use the built-in len() function to calculate that.\n",
    "o Return that result.\n",
    "\n",
    "• Write a function called get_average that takes a student dictionary (like eren, mikasa, or armin) as input\n",
    "and returns his/her weighted average.\n",
    "o Define a function called get_average that takes one argument called student.\n",
    "o Make a variable homework that stores the average() of student[\"homework\"].\n",
    "o Repeat step 2 for \"quizzes\" and \"tests\".\n",
    "o Multiply the 3 averages by their weights and return the sum of those three. Homework is 10%,\n",
    "quizzes are 30% and tests are 60%.\n",
    "\n",
    "• Define a new function called get_letter_grade that has one argument called score. Expect score to be a\n",
    "number.\n",
    "o Inside your function, test score using a chain of if: / elif: / else: statements, like so:\n",
    "    o If score is 90 or above: return \"A\"\n",
    "    o Else if score is 80 or above: return \"B\"\n",
    "    o Else if score is 70 or above: return \"C\"\n",
    "    o Else if score is 60 or above: return \"D\"\n",
    "    o Otherwise: return \"F\"\n",
    "    o Finally, test your function. Call your get_letter_grade function with the result\n",
    "    of get_average(lloyd). Print the resulting letter grade.\n",
    "\n",
    "• Define a function called get_class_average that has one argument, students. You can expect students\n",
    "to be a list containing your three students.\n",
    "o First, make an empty list called results.\n",
    "o For each student item in the class list, calculate get_average(student) and then call\n",
    "results.append() with that result.\n",
    "o Finally, return the result of calling average() with results.\n",
    "• Finally, print out the result of calling get_class_averagewith your students list. Your students should be\n",
    "[eren, mikasa, armin].\n",
    "• Then, print the result of get_letter_grade for the class's average"
   ]
  },
  {
   "cell_type": "code",
   "execution_count": 62,
   "metadata": {},
   "outputs": [
    {
     "name": "stdout",
     "output_type": "stream",
     "text": [
      "Eren\n",
      "[90.0, 97.0, 75.0, 92.0]\n",
      "[88.0, 40.0, 94.0]\n",
      "[75.0, 90.0]\n",
      "Mikasa\n",
      "[100.0, 92.0, 98.0, 100.0]\n",
      "[82.0, 83.0, 91.0]\n",
      "[89.0, 97.0]\n",
      "Armin\n",
      "[0.0, 87.0, 75.0, 22.0]\n",
      "[0.0, 75.0, 78.0]\n",
      "[100.0, 100.0]\n"
     ]
    }
   ],
   "source": [
    "eren = {\n",
    " \"name\": \"Eren\",\n",
    " \"homework\": [],\n",
    " \"quizzes\": [],\n",
    " \"tests\": []\n",
    "}\n",
    "mikasa = {\n",
    "\"name\": \"Mikasa\",\n",
    "\"homework\": [],\n",
    "\"quizzes\": [],\n",
    "\"tests\": []\n",
    "}\n",
    "armin = {\n",
    "\"name\": \"Armin\",\n",
    "\"homework\": [],\n",
    "\"quizzes\": [],\n",
    "\"tests\": []\n",
    "}\n",
    "\n",
    "eren = {\n",
    " \"name\": \"Eren\",\n",
    " \"homework\": [90.0,97.0,75.0,92.0],\n",
    " \"quizzes\": [88.0,40.0,94.0],\n",
    " \"tests\": [75.0,90.0]\n",
    "}\n",
    "mikasa = {\n",
    "\"name\": \"Mikasa\",\n",
    "\"homework\": [100.0, 92.0, 98.0, 100.0],\n",
    "\"quizzes\": [82.0, 83.0, 91.0],\n",
    "\"tests\": [89.0, 97.0]\n",
    "}\n",
    "armin = {\n",
    "\"name\": \"Armin\",\n",
    "\"homework\": [0.0, 87.0, 75.0, 22.0],\n",
    "\"quizzes\": [0.0, 75.0, 78.0],\n",
    "\"tests\": [100.0, 100.0]\n",
    "}\n",
    "\n",
    "students = [eren, mikasa, armin]\n",
    "for student in students:\n",
    "    print(student[\"name\"])\n",
    "    print(student[\"homework\"])\n",
    "    print(student[\"quizzes\"])\n",
    "    print(student[\"tests\"])\n",
    "\n",
    "\n",
    "\n"
   ]
  },
  {
   "cell_type": "code",
   "execution_count": 56,
   "metadata": {},
   "outputs": [
    {
     "data": {
      "text/plain": [
       "6.5"
      ]
     },
     "execution_count": 56,
     "metadata": {},
     "output_type": "execute_result"
    }
   ],
   "source": [
    "def average(numbers):\n",
    "    total = float(sum(numbers))\n",
    "    return total / len(numbers)\n",
    "average([5,6,7,8])"
   ]
  },
  {
   "cell_type": "code",
   "execution_count": 63,
   "metadata": {},
   "outputs": [
    {
     "name": "stdout",
     "output_type": "stream",
     "text": [
      "80.55\n"
     ]
    }
   ],
   "source": [
    "def get_average(student):\n",
    "    homework = average(student[\"homework\"])\n",
    "    quizzes = average(student[\"quizzes\"])\n",
    "    tests = average(student[\"tests\"])\n",
    "    weight = (homework * 0.1) + (quizzes * 0.3) + (tests * 0.6)\n",
    "    return weight\n",
    "\n",
    "print(get_average(eren))"
   ]
  },
  {
   "cell_type": "code",
   "execution_count": 64,
   "metadata": {},
   "outputs": [
    {
     "data": {
      "text/plain": [
       "'B'"
      ]
     },
     "execution_count": 64,
     "metadata": {},
     "output_type": "execute_result"
    }
   ],
   "source": [
    "def get_letter_grade(score):\n",
    "    if score >= 90:\n",
    "        return \"A\"\n",
    "    elif score >= 80: \n",
    "        return \"B\"\n",
    "    elif score >= 70: \n",
    "        return \"C\"\n",
    "    elif score >= 60:\n",
    "        return \"D\"\n",
    "    else:\n",
    "        return \"F\"\n",
    "\n",
    "lloyd = {\n",
    "\"name\": \"Lloyd\",\n",
    "\"homework\": [46.0, 0.0, 85.0, 100.0],\n",
    "\"quizzes\": [100.0, 65.0, 78.0],\n",
    "\"tests\": [100.0, 70.0]\n",
    "}\n",
    "\n",
    "\n",
    "get_letter_grade(get_average(lloyd))"
   ]
  },
  {
   "cell_type": "code",
   "execution_count": 68,
   "metadata": {},
   "outputs": [
    {
     "name": "stdout",
     "output_type": "stream",
     "text": [
      "[80.55, 91.14999999999999, 79.9]\n",
      "B\n"
     ]
    }
   ],
   "source": [
    "def get_class_average(students):\n",
    "    results = []\n",
    "    for student in students:\n",
    "        results.append(get_average(student))\n",
    "    return results\n",
    "\n",
    "print(get_class_average(students))\n",
    "print(get_letter_grade(average(get_class_average(students))))"
   ]
  }
 ],
 "metadata": {
  "kernelspec": {
   "display_name": "Python 3.10.7 64-bit",
   "language": "python",
   "name": "python3"
  },
  "language_info": {
   "codemirror_mode": {
    "name": "ipython",
    "version": 3
   },
   "file_extension": ".py",
   "mimetype": "text/x-python",
   "name": "python",
   "nbconvert_exporter": "python",
   "pygments_lexer": "ipython3",
   "version": "3.10.7"
  },
  "orig_nbformat": 4,
  "vscode": {
   "interpreter": {
    "hash": "aee8b7b246df8f9039afb4144a1f6fd8d2ca17a180786b69acc140d282b71a49"
   }
  }
 },
 "nbformat": 4,
 "nbformat_minor": 2
}
